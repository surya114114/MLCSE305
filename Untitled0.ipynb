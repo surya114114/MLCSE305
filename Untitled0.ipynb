{
  "nbformat": 4,
  "nbformat_minor": 0,
  "metadata": {
    "colab": {
      "provenance": [],
      "authorship_tag": "ABX9TyOSoJFzUAMAHlGA363xEwJC",
      "include_colab_link": true
    },
    "kernelspec": {
      "name": "python3",
      "display_name": "Python 3"
    },
    "language_info": {
      "name": "python"
    }
  },
  "cells": [
    {
      "cell_type": "markdown",
      "metadata": {
        "id": "view-in-github",
        "colab_type": "text"
      },
      "source": [
        "<a href=\"https://colab.research.google.com/github/surya114114/MLCSE305/blob/main/Untitled0.ipynb\" target=\"_parent\"><img src=\"https://colab.research.google.com/assets/colab-badge.svg\" alt=\"Open In Colab\"/></a>"
      ]
    },
    {
      "cell_type": "code",
      "execution_count": null,
      "metadata": {
        "colab": {
          "base_uri": "https://localhost:8080/"
        },
        "id": "4M_7_N4Hej3k",
        "outputId": "b62d1a16-20b2-4e66-abde-161d08f12c16"
      },
      "outputs": [
        {
          "output_type": "stream",
          "name": "stdout",
          "text": [
            "helloworld\n"
          ]
        }
      ],
      "source": [
        "print(\"helloworld\")\n"
      ]
    },
    {
      "cell_type": "code",
      "source": [
        "print(2+3) \n",
        "a=20 \n",
        "print(a)\n",
        "print(type(a)) \n",
        "a=\"hello\" \n",
        "print(len(a))"
      ],
      "metadata": {
        "colab": {
          "base_uri": "https://localhost:8080/"
        },
        "id": "4j9-G1fre1qP",
        "outputId": "8c85f0bb-788e-4843-e262-069673ad8487"
      },
      "execution_count": null,
      "outputs": [
        {
          "output_type": "stream",
          "name": "stdout",
          "text": [
            "5\n",
            "20\n",
            "<class 'int'>\n",
            "5\n"
          ]
        }
      ]
    },
    {
      "cell_type": "code",
      "source": [
        "x=3\n",
        "print(type(x))\n",
        "print(x)\n",
        "print(x+1)\n",
        "print(x-1)\n",
        "print (x * 2) \n",
        "print (x ** 2) \n",
        "x += 1\n",
        "print (x) \n",
        "x *= 2\n",
        "print (x ) \n",
        "y = 2.5\n",
        "print (type(y)) \n",
        "print (y, y + 1, y * 2, y ** 2)\n",
        "\n"
      ],
      "metadata": {
        "colab": {
          "base_uri": "https://localhost:8080/"
        },
        "id": "3BK9VCaygbCU",
        "outputId": "3e1efb1f-3142-4b09-fef5-989240774535"
      },
      "execution_count": null,
      "outputs": [
        {
          "output_type": "stream",
          "name": "stdout",
          "text": [
            "<class 'int'>\n",
            "3\n",
            "4\n",
            "2\n",
            "6\n",
            "9\n",
            "4\n",
            "8\n",
            "<class 'float'>\n",
            "2.5 3.5 5.0 6.25\n"
          ]
        }
      ]
    },
    {
      "cell_type": "code",
      "source": [
        "s=\"hello\"\n",
        "print(s.capitalize())\n",
        "print(s.upper())\n",
        "print(s.rjust(7))\n",
        "print(s.center(7))\n",
        "print(s.replace('l','(ell)'))\n",
        "print(' world '.strip())"
      ],
      "metadata": {
        "colab": {
          "base_uri": "https://localhost:8080/"
        },
        "id": "429g7k0yhpWu",
        "outputId": "20b3c2b0-a077-4552-bd17-363267fbbc00"
      },
      "execution_count": null,
      "outputs": [
        {
          "output_type": "stream",
          "name": "stdout",
          "text": [
            "Hello\n",
            "HELLO\n",
            "  hello\n",
            " hello \n",
            "he(ell)(ell)o\n",
            "world\n"
          ]
        }
      ]
    },
    {
      "cell_type": "code",
      "source": [
        "a=\"JKLM\"\n",
        "for i in a:\n",
        " print(i+\"ack\")"
      ],
      "metadata": {
        "colab": {
          "base_uri": "https://localhost:8080/"
        },
        "id": "SA5ORgHFi-AL",
        "outputId": "b0b40241-7516-49b6-8979-34642995a0fa"
      },
      "execution_count": null,
      "outputs": [
        {
          "output_type": "stream",
          "name": "stdout",
          "text": [
            "Jack\n",
            "Kack\n",
            "Lack\n",
            "Mack\n"
          ]
        }
      ]
    },
    {
      "cell_type": "code",
      "source": [
        "a=int(input(\"Enter a number: \"))\n",
        "if (a>10):\n",
        "  print(\"Number is greater than 10\")\n",
        "else:\n",
        "  print(\"Number is less than 10\")"
      ],
      "metadata": {
        "colab": {
          "base_uri": "https://localhost:8080/"
        },
        "id": "CT_Xo74Wj5bB",
        "outputId": "e8fb372d-c673-4548-8809-b90207f59941"
      },
      "execution_count": null,
      "outputs": [
        {
          "output_type": "stream",
          "name": "stdout",
          "text": [
            "Enter a number: 10\n",
            "Number is less than 10\n"
          ]
        }
      ]
    },
    {
      "cell_type": "code",
      "source": [
        "a=10\n",
        "if a>5:\n",
        "  print(\"a>5\")\n",
        "elif a>4:\n",
        "  print(\"a>4\")\n",
        "else:\n",
        "  print(\"Not matching\")\n",
        "for i in range(10):\n",
        "   print(i)"
      ],
      "metadata": {
        "colab": {
          "base_uri": "https://localhost:8080/"
        },
        "id": "ZNTgk03lnGP8",
        "outputId": "1f9438fa-a5eb-49e3-fa04-fcff342bc2dd"
      },
      "execution_count": null,
      "outputs": [
        {
          "output_type": "stream",
          "name": "stdout",
          "text": [
            "a>5\n",
            "0\n",
            "1\n",
            "2\n",
            "3\n",
            "4\n",
            "5\n",
            "6\n",
            "7\n",
            "8\n",
            "9\n"
          ]
        }
      ]
    },
    {
      "cell_type": "code",
      "source": [
        "def my_fun(x,y):\n",
        "  print (x+y)\n",
        "my_fun(10,20)\n",
        "my_fun(\"10\",\"20\")"
      ],
      "metadata": {
        "colab": {
          "base_uri": "https://localhost:8080/"
        },
        "id": "56FNVtC1ndgM",
        "outputId": "419382bc-3bee-41ff-d68b-7ef2e6d6866e"
      },
      "execution_count": null,
      "outputs": [
        {
          "output_type": "stream",
          "name": "stdout",
          "text": [
            "30\n",
            "1020\n"
          ]
        }
      ]
    },
    {
      "cell_type": "code",
      "source": [
        "a=[] \n",
        "a=[1,2,3,4.5,\"Hello\",\"50\"]\n",
        "print (type(a))\n",
        "print (len(a))\n",
        "print( a[0])\n",
        "print (a[-1])\n",
        "print (a[2:5])\n",
        "a.append(100) \n",
        "print (a)\n",
        "a.remove(2)\n",
        "print(a)\n",
        "a.append(\"append value\")\n",
        "print (a)\n",
        "a.insert(3,\"insert value\")\n",
        "print (a)\n"
      ],
      "metadata": {
        "colab": {
          "base_uri": "https://localhost:8080/"
        },
        "id": "dPrDUdc9qkSb",
        "outputId": "fc89813c-d1e9-43ba-f3fd-dd0c39d6579e"
      },
      "execution_count": null,
      "outputs": [
        {
          "output_type": "stream",
          "name": "stdout",
          "text": [
            "<class 'list'>\n",
            "6\n",
            "1\n",
            "50\n",
            "[3, 4.5, 'Hello']\n",
            "[1, 2, 3, 4.5, 'Hello', '50', 100]\n",
            "[1, 3, 4.5, 'Hello', '50', 100]\n",
            "[1, 3, 4.5, 'Hello', '50', 100, 'append value']\n",
            "[1, 3, 4.5, 'insert value', 'Hello', '50', 100, 'append value']\n"
          ]
        }
      ]
    },
    {
      "cell_type": "code",
      "source": [
        "nums = [0, 1, 2, 3, 4]\n",
        "even_squares=[]\n",
        "for x in nums:\n",
        " if x%2==0:\n",
        "  even_squares.append(x**2)\n",
        "print( even_squares)"
      ],
      "metadata": {
        "colab": {
          "base_uri": "https://localhost:8080/"
        },
        "id": "-1XVkSTSqmD6",
        "outputId": "5e057dcc-55fe-465c-ab13-e56ff54bc1aa"
      },
      "execution_count": 1,
      "outputs": [
        {
          "output_type": "stream",
          "name": "stdout",
          "text": [
            "[0, 4, 16]\n"
          ]
        }
      ]
    },
    {
      "cell_type": "code",
      "source": [
        "even_squares = [x ** 2 for x in nums if x % 2 == 0]\n",
        "print (even_squares)"
      ],
      "metadata": {
        "colab": {
          "base_uri": "https://localhost:8080/"
        },
        "id": "XhMHz0wnPTBd",
        "outputId": "21dabd43-4854-462c-d45c-407bba3deb97"
      },
      "execution_count": 2,
      "outputs": [
        {
          "output_type": "stream",
          "name": "stdout",
          "text": [
            "[0, 4, 16]\n"
          ]
        }
      ]
    },
    {
      "cell_type": "code",
      "source": [
        "a=range(1,25)\n",
        "a[2:5]\n",
        "a[-1]\n",
        "a[1:5:2]\n",
        "a[-3:-1]\n",
        "a[:]\n",
        "a[::]\n",
        "a[::2]\n",
        "a[::-1]"
      ],
      "metadata": {
        "colab": {
          "base_uri": "https://localhost:8080/"
        },
        "id": "gn9AMkgtPhPK",
        "outputId": "7c7be0d4-8ebc-424a-c01d-ab0fa86d53a5"
      },
      "execution_count": 3,
      "outputs": [
        {
          "output_type": "execute_result",
          "data": {
            "text/plain": [
              "range(24, 0, -1)"
            ]
          },
          "metadata": {},
          "execution_count": 3
        }
      ]
    },
    {
      "cell_type": "code",
      "source": [
        "a=range(1,25)\n",
        "a[::-1]"
      ],
      "metadata": {
        "colab": {
          "base_uri": "https://localhost:8080/"
        },
        "id": "RK8i-2PkQR6p",
        "outputId": "ba4a4591-fac9-4c09-aa96-ed4f66274e19"
      },
      "execution_count": 13,
      "outputs": [
        {
          "output_type": "execute_result",
          "data": {
            "text/plain": [
              "range(24, 0, -1)"
            ]
          },
          "metadata": {},
          "execution_count": 13
        }
      ]
    },
    {
      "cell_type": "code",
      "source": [
        "animals = {'cat', 'dog'}\n",
        "print ('cat' in animals) # Check if an element is in a set; prints \"True\"\n",
        "print ('fish' in animals ) # prints \"False\"\n",
        "animals.add('fish') # Add an element to a set\n",
        "print ('fish' in animals) # Prints \"True\"\n",
        "print (len(animals)) # Number of elements in a set; prints \"3\"\n",
        "animals.add('cat') # Adding an element that is already in the set does nothing\n",
        "print (len(animals) ) # Prints \"3\"\n",
        "animals.remove('cat') # Remove an element from a set\n",
        "print (len(animals) )"
      ],
      "metadata": {
        "colab": {
          "base_uri": "https://localhost:8080/"
        },
        "id": "s3UTvjwpQbJl",
        "outputId": "6ed0a0e7-0275-471a-cffc-731de5c94f67"
      },
      "execution_count": 14,
      "outputs": [
        {
          "output_type": "stream",
          "name": "stdout",
          "text": [
            "True\n",
            "False\n",
            "True\n",
            "3\n",
            "3\n",
            "2\n"
          ]
        }
      ]
    },
    {
      "cell_type": "code",
      "source": [
        "pos={}#empty dictionary\n",
        "print (type(dict))\n",
        "pos[\"Man\"]=\"Noun\"\n",
        "pos[\"Play\"]=\"Verb\"\n",
        "pos[\"Good\"]=\"Adjective\"\n",
        "pos[\"Apple\"]=\"Noun\"\n",
        "pos[\"Cricket\"]=\"Noun\"\n",
        "pos[\"Cry\"]=\"Verb\"\n",
        "print (pos)\n",
        "#Print all the nouns in the dictionary\n",
        "for w in pos:\n",
        " if pos[w]==\"Noun\":\n",
        "  print (w)\n",
        " "
      ],
      "metadata": {
        "colab": {
          "base_uri": "https://localhost:8080/"
        },
        "id": "oaDLvKgJRuGW",
        "outputId": "16f39fb8-01f7-40e2-f5e5-7be8904cf559"
      },
      "execution_count": 16,
      "outputs": [
        {
          "output_type": "stream",
          "name": "stdout",
          "text": [
            "<class 'type'>\n",
            "{'Man': 'Noun', 'Play': 'Verb', 'Good': 'Adjective', 'Apple': 'Noun', 'Cricket': 'Noun', 'Cry': 'Verb'}\n",
            "Man\n",
            "Apple\n",
            "Cricket\n"
          ]
        }
      ]
    },
    {
      "cell_type": "code",
      "source": [
        "d= {(x, x + 1): x for x in range(10)} # Create a dictionary with tuple keys\n",
        "t = (5, 6) # Create a tuple\n",
        "print (type(t)) # Prints \"<type 'tuple'>\"\n",
        "print (d[t] ) # Prints \"5\"\n",
        "print (d[(1, 2)]) # Prints \"1\"\n",
        "7"
      ],
      "metadata": {
        "colab": {
          "base_uri": "https://localhost:8080/"
        },
        "id": "hLK6E6yNR5p1",
        "outputId": "cde7f233-55ef-4d06-bdbf-25eb66c5a8a1"
      },
      "execution_count": 18,
      "outputs": [
        {
          "output_type": "stream",
          "name": "stdout",
          "text": [
            "<class 'tuple'>\n",
            "5\n",
            "1\n"
          ]
        },
        {
          "output_type": "execute_result",
          "data": {
            "text/plain": [
              "7"
            ]
          },
          "metadata": {},
          "execution_count": 18
        }
      ]
    },
    {
      "cell_type": "code",
      "source": [
        "file=open(\"newfile.txt\",\"w\")\n",
        "print (type(file))\n",
        "a=\"This will be written to the file.\"\n",
        "file.write(a)\n",
        "file.close()\n"
      ],
      "metadata": {
        "colab": {
          "base_uri": "https://localhost:8080/"
        },
        "id": "HddTGswcSyze",
        "outputId": "3561a43a-feda-4766-d2d6-795bb9f74a5d"
      },
      "execution_count": 20,
      "outputs": [
        {
          "output_type": "stream",
          "name": "stdout",
          "text": [
            "<class '_io.TextIOWrapper'>\n"
          ]
        }
      ]
    },
    {
      "cell_type": "code",
      "source": [],
      "metadata": {
        "id": "n-Vkwb-yTGID"
      },
      "execution_count": null,
      "outputs": []
    }
  ]
}