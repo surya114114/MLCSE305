{
  "nbformat": 4,
  "nbformat_minor": 0,
  "metadata": {
    "colab": {
      "provenance": [],
      "authorship_tag": "ABX9TyNDhCoYEK9yjujCndbxKa4i",
      "include_colab_link": true
    },
    "kernelspec": {
      "name": "python3",
      "display_name": "Python 3"
    },
    "language_info": {
      "name": "python"
    }
  },
  "cells": [
    {
      "cell_type": "markdown",
      "metadata": {
        "id": "view-in-github",
        "colab_type": "text"
      },
      "source": [
        "<a href=\"https://colab.research.google.com/github/surya114114/MLCSE305/blob/main/Untitled0.ipynb\" target=\"_parent\"><img src=\"https://colab.research.google.com/assets/colab-badge.svg\" alt=\"Open In Colab\"/></a>"
      ]
    },
    {
      "cell_type": "code",
      "execution_count": 3,
      "metadata": {
        "colab": {
          "base_uri": "https://localhost:8080/"
        },
        "id": "4M_7_N4Hej3k",
        "outputId": "b62d1a16-20b2-4e66-abde-161d08f12c16"
      },
      "outputs": [
        {
          "output_type": "stream",
          "name": "stdout",
          "text": [
            "helloworld\n"
          ]
        }
      ],
      "source": [
        "print(\"helloworld\")\n"
      ]
    },
    {
      "cell_type": "code",
      "source": [
        "print(2+3) \n",
        "a=20 \n",
        "print(a)\n",
        "print(type(a)) \n",
        "a=\"hello\" \n",
        "print(len(a))"
      ],
      "metadata": {
        "colab": {
          "base_uri": "https://localhost:8080/"
        },
        "id": "4j9-G1fre1qP",
        "outputId": "8c85f0bb-788e-4843-e262-069673ad8487"
      },
      "execution_count": 5,
      "outputs": [
        {
          "output_type": "stream",
          "name": "stdout",
          "text": [
            "5\n",
            "20\n",
            "<class 'int'>\n",
            "5\n"
          ]
        }
      ]
    },
    {
      "cell_type": "code",
      "source": [
        "x=3\n",
        "print(type(x))\n",
        "print(x)\n",
        "print(x+1)\n",
        "print(x-1)\n",
        "print (x * 2) \n",
        "print (x ** 2) \n",
        "x += 1\n",
        "print (x) \n",
        "x *= 2\n",
        "print (x ) \n",
        "y = 2.5\n",
        "print (type(y)) \n",
        "print (y, y + 1, y * 2, y ** 2)\n",
        "\n"
      ],
      "metadata": {
        "colab": {
          "base_uri": "https://localhost:8080/"
        },
        "id": "3BK9VCaygbCU",
        "outputId": "3e1efb1f-3142-4b09-fef5-989240774535"
      },
      "execution_count": 6,
      "outputs": [
        {
          "output_type": "stream",
          "name": "stdout",
          "text": [
            "<class 'int'>\n",
            "3\n",
            "4\n",
            "2\n",
            "6\n",
            "9\n",
            "4\n",
            "8\n",
            "<class 'float'>\n",
            "2.5 3.5 5.0 6.25\n"
          ]
        }
      ]
    },
    {
      "cell_type": "code",
      "source": [
        "s=\"hello\"\n",
        "print(s.capitalize())\n",
        "print(s.upper())\n",
        "print(s.rjust(7))\n",
        "print(s.center(7))\n",
        "print(s.replace('l','(ell)'))\n",
        "print(' world '.strip())"
      ],
      "metadata": {
        "colab": {
          "base_uri": "https://localhost:8080/"
        },
        "id": "429g7k0yhpWu",
        "outputId": "20b3c2b0-a077-4552-bd17-363267fbbc00"
      },
      "execution_count": 7,
      "outputs": [
        {
          "output_type": "stream",
          "name": "stdout",
          "text": [
            "Hello\n",
            "HELLO\n",
            "  hello\n",
            " hello \n",
            "he(ell)(ell)o\n",
            "world\n"
          ]
        }
      ]
    },
    {
      "cell_type": "code",
      "source": [
        "a=\"JKLM\"\n",
        "for i in a:\n",
        " print(i+\"ack\")"
      ],
      "metadata": {
        "colab": {
          "base_uri": "https://localhost:8080/"
        },
        "id": "SA5ORgHFi-AL",
        "outputId": "b0b40241-7516-49b6-8979-34642995a0fa"
      },
      "execution_count": 8,
      "outputs": [
        {
          "output_type": "stream",
          "name": "stdout",
          "text": [
            "Jack\n",
            "Kack\n",
            "Lack\n",
            "Mack\n"
          ]
        }
      ]
    },
    {
      "cell_type": "code",
      "source": [
        "a=int(input(\"Enter a number: \"))\n",
        "if (a>10):\n",
        "  print(\"Number is greater than 10\")\n",
        "else:\n",
        "  print(\"Number is less than 10\")"
      ],
      "metadata": {
        "colab": {
          "base_uri": "https://localhost:8080/"
        },
        "id": "CT_Xo74Wj5bB",
        "outputId": "e8fb372d-c673-4548-8809-b90207f59941"
      },
      "execution_count": 14,
      "outputs": [
        {
          "output_type": "stream",
          "name": "stdout",
          "text": [
            "Enter a number: 10\n",
            "Number is less than 10\n"
          ]
        }
      ]
    },
    {
      "cell_type": "code",
      "source": [
        "a=10\n",
        "if a>5:\n",
        "  print(\"a>5\")\n",
        "elif a>4:\n",
        "  print(\"a>4\")\n",
        "else:\n",
        "  print(\"Not matching\")\n",
        "for i in range(10):\n",
        "   print(i)"
      ],
      "metadata": {
        "colab": {
          "base_uri": "https://localhost:8080/"
        },
        "id": "ZNTgk03lnGP8",
        "outputId": "1f9438fa-a5eb-49e3-fa04-fcff342bc2dd"
      },
      "execution_count": 20,
      "outputs": [
        {
          "output_type": "stream",
          "name": "stdout",
          "text": [
            "a>5\n",
            "0\n",
            "1\n",
            "2\n",
            "3\n",
            "4\n",
            "5\n",
            "6\n",
            "7\n",
            "8\n",
            "9\n"
          ]
        }
      ]
    },
    {
      "cell_type": "code",
      "source": [
        "def my_fun(x,y):\n",
        "  print (x+y)\n",
        "my_fun(10,20)\n",
        "my_fun(\"10\",\"20\")"
      ],
      "metadata": {
        "colab": {
          "base_uri": "https://localhost:8080/"
        },
        "id": "56FNVtC1ndgM",
        "outputId": "419382bc-3bee-41ff-d68b-7ef2e6d6866e"
      },
      "execution_count": 28,
      "outputs": [
        {
          "output_type": "stream",
          "name": "stdout",
          "text": [
            "30\n",
            "1020\n"
          ]
        }
      ]
    },
    {
      "cell_type": "code",
      "source": [
        "a=[] \n",
        "a=[1,2,3,4.5,\"Hello\",\"50\"]\n",
        "print (type(a))\n",
        "print (len(a))\n",
        "print( a[0])\n",
        "print (a[-1])\n",
        "print (a[2:5])\n",
        "a.append(100) \n",
        "print (a)\n",
        "a.remove(2)\n",
        "print(a)\n",
        "a.append(\"append value\")\n",
        "print (a)\n",
        "a.insert(3,\"insert value\")\n",
        "print (a)\n"
      ],
      "metadata": {
        "colab": {
          "base_uri": "https://localhost:8080/"
        },
        "id": "dPrDUdc9qkSb",
        "outputId": "fc89813c-d1e9-43ba-f3fd-dd0c39d6579e"
      },
      "execution_count": 33,
      "outputs": [
        {
          "output_type": "stream",
          "name": "stdout",
          "text": [
            "<class 'list'>\n",
            "6\n",
            "1\n",
            "50\n",
            "[3, 4.5, 'Hello']\n",
            "[1, 2, 3, 4.5, 'Hello', '50', 100]\n",
            "[1, 3, 4.5, 'Hello', '50', 100]\n",
            "[1, 3, 4.5, 'Hello', '50', 100, 'append value']\n",
            "[1, 3, 4.5, 'insert value', 'Hello', '50', 100, 'append value']\n"
          ]
        }
      ]
    },
    {
      "cell_type": "code",
      "source": [
        "nums = [0, 1, 2, 3, 4]\n",
        "even_squares=[]\n",
        "for x in nums:\n",
        " if x%2==0:\n",
        "  even_squares.append(x**2)\n",
        "print( even_squares)"
      ],
      "metadata": {
        "colab": {
          "base_uri": "https://localhost:8080/"
        },
        "id": "-1XVkSTSqmD6",
        "outputId": "d2e5c995-fe00-4296-fbff-ccf112ed8c25"
      },
      "execution_count": 34,
      "outputs": [
        {
          "output_type": "stream",
          "name": "stdout",
          "text": [
            "[0, 4, 16]\n"
          ]
        }
      ]
    }
  ]
}