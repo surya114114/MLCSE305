{
  "nbformat": 4,
  "nbformat_minor": 0,
  "metadata": {
    "colab": {
      "provenance": [],
      "authorship_tag": "ABX9TyNuZf5ytm/nw4bhEa6Ak/HF",
      "include_colab_link": true
    },
    "kernelspec": {
      "name": "python3",
      "display_name": "Python 3"
    },
    "language_info": {
      "name": "python"
    }
  },
  "cells": [
    {
      "cell_type": "markdown",
      "metadata": {
        "id": "view-in-github",
        "colab_type": "text"
      },
      "source": [
        "<a href=\"https://colab.research.google.com/github/surya114114/MLCSE305/blob/main/Untitled0.ipynb\" target=\"_parent\"><img src=\"https://colab.research.google.com/assets/colab-badge.svg\" alt=\"Open In Colab\"/></a>"
      ]
    },
    {
      "cell_type": "code",
      "execution_count": null,
      "metadata": {
        "colab": {
          "base_uri": "https://localhost:8080/"
        },
        "id": "4M_7_N4Hej3k",
        "outputId": "b62d1a16-20b2-4e66-abde-161d08f12c16"
      },
      "outputs": [
        {
          "output_type": "stream",
          "name": "stdout",
          "text": [
            "helloworld\n"
          ]
        }
      ],
      "source": [
        "print(\"helloworld\")\n"
      ]
    },
    {
      "cell_type": "code",
      "source": [
        "print(2+3) \n",
        "a=20 \n",
        "print(a)\n",
        "print(type(a)) \n",
        "a=\"hello\" \n",
        "print(len(a))"
      ],
      "metadata": {
        "colab": {
          "base_uri": "https://localhost:8080/"
        },
        "id": "4j9-G1fre1qP",
        "outputId": "8c85f0bb-788e-4843-e262-069673ad8487"
      },
      "execution_count": null,
      "outputs": [
        {
          "output_type": "stream",
          "name": "stdout",
          "text": [
            "5\n",
            "20\n",
            "<class 'int'>\n",
            "5\n"
          ]
        }
      ]
    },
    {
      "cell_type": "code",
      "source": [
        "x=3\n",
        "print(type(x))\n",
        "print(x)\n",
        "print(x+1)\n",
        "print(x-1)\n",
        "print (x * 2) \n",
        "print (x ** 2) \n",
        "x += 1\n",
        "print (x) \n",
        "x *= 2\n",
        "print (x ) \n",
        "y = 2.5\n",
        "print (type(y)) \n",
        "print (y, y + 1, y * 2, y ** 2)\n",
        "\n"
      ],
      "metadata": {
        "colab": {
          "base_uri": "https://localhost:8080/"
        },
        "id": "3BK9VCaygbCU",
        "outputId": "3e1efb1f-3142-4b09-fef5-989240774535"
      },
      "execution_count": null,
      "outputs": [
        {
          "output_type": "stream",
          "name": "stdout",
          "text": [
            "<class 'int'>\n",
            "3\n",
            "4\n",
            "2\n",
            "6\n",
            "9\n",
            "4\n",
            "8\n",
            "<class 'float'>\n",
            "2.5 3.5 5.0 6.25\n"
          ]
        }
      ]
    },
    {
      "cell_type": "code",
      "source": [
        "s=\"hello\"\n",
        "print(s.capitalize())\n",
        "print(s.upper())\n",
        "print(s.rjust(7))\n",
        "print(s.center(7))\n",
        "print(s.replace('l','(ell)'))\n",
        "print(' world '.strip())"
      ],
      "metadata": {
        "colab": {
          "base_uri": "https://localhost:8080/"
        },
        "id": "429g7k0yhpWu",
        "outputId": "20b3c2b0-a077-4552-bd17-363267fbbc00"
      },
      "execution_count": null,
      "outputs": [
        {
          "output_type": "stream",
          "name": "stdout",
          "text": [
            "Hello\n",
            "HELLO\n",
            "  hello\n",
            " hello \n",
            "he(ell)(ell)o\n",
            "world\n"
          ]
        }
      ]
    },
    {
      "cell_type": "code",
      "source": [
        "a=\"JKLM\"\n",
        "for i in a:\n",
        " print(i+\"ack\")"
      ],
      "metadata": {
        "colab": {
          "base_uri": "https://localhost:8080/"
        },
        "id": "SA5ORgHFi-AL",
        "outputId": "b0b40241-7516-49b6-8979-34642995a0fa"
      },
      "execution_count": null,
      "outputs": [
        {
          "output_type": "stream",
          "name": "stdout",
          "text": [
            "Jack\n",
            "Kack\n",
            "Lack\n",
            "Mack\n"
          ]
        }
      ]
    },
    {
      "cell_type": "code",
      "source": [
        "a=int(input(\"Enter a number: \"))\n",
        "if (a>10):\n",
        "  print(\"Number is greater than 10\")\n",
        "else:\n",
        "  print(\"Number is less than 10\")"
      ],
      "metadata": {
        "colab": {
          "base_uri": "https://localhost:8080/"
        },
        "id": "CT_Xo74Wj5bB",
        "outputId": "e8fb372d-c673-4548-8809-b90207f59941"
      },
      "execution_count": null,
      "outputs": [
        {
          "output_type": "stream",
          "name": "stdout",
          "text": [
            "Enter a number: 10\n",
            "Number is less than 10\n"
          ]
        }
      ]
    },
    {
      "cell_type": "code",
      "source": [
        "a=10\n",
        "if a>5:\n",
        "  print(\"a>5\")\n",
        "elif a>4:\n",
        "  print(\"a>4\")\n",
        "else:\n",
        "  print(\"Not matching\")\n",
        "for i in range(10):\n",
        "   print(i)"
      ],
      "metadata": {
        "colab": {
          "base_uri": "https://localhost:8080/"
        },
        "id": "ZNTgk03lnGP8",
        "outputId": "1f9438fa-a5eb-49e3-fa04-fcff342bc2dd"
      },
      "execution_count": null,
      "outputs": [
        {
          "output_type": "stream",
          "name": "stdout",
          "text": [
            "a>5\n",
            "0\n",
            "1\n",
            "2\n",
            "3\n",
            "4\n",
            "5\n",
            "6\n",
            "7\n",
            "8\n",
            "9\n"
          ]
        }
      ]
    },
    {
      "cell_type": "code",
      "source": [
        "def my_fun(x,y):\n",
        "  print (x+y)\n",
        "my_fun(10,20)\n",
        "my_fun(\"10\",\"20\")"
      ],
      "metadata": {
        "colab": {
          "base_uri": "https://localhost:8080/"
        },
        "id": "56FNVtC1ndgM",
        "outputId": "419382bc-3bee-41ff-d68b-7ef2e6d6866e"
      },
      "execution_count": null,
      "outputs": [
        {
          "output_type": "stream",
          "name": "stdout",
          "text": [
            "30\n",
            "1020\n"
          ]
        }
      ]
    },
    {
      "cell_type": "code",
      "source": [
        "a=[] \n",
        "a=[1,2,3,4.5,\"Hello\",\"50\"]\n",
        "print (type(a))\n",
        "print (len(a))\n",
        "print( a[0])\n",
        "print (a[-1])\n",
        "print (a[2:5])\n",
        "a.append(100) \n",
        "print (a)\n",
        "a.remove(2)\n",
        "print(a)\n",
        "a.append(\"append value\")\n",
        "print (a)\n",
        "a.insert(3,\"insert value\")\n",
        "print (a)\n"
      ],
      "metadata": {
        "colab": {
          "base_uri": "https://localhost:8080/"
        },
        "id": "dPrDUdc9qkSb",
        "outputId": "fc89813c-d1e9-43ba-f3fd-dd0c39d6579e"
      },
      "execution_count": null,
      "outputs": [
        {
          "output_type": "stream",
          "name": "stdout",
          "text": [
            "<class 'list'>\n",
            "6\n",
            "1\n",
            "50\n",
            "[3, 4.5, 'Hello']\n",
            "[1, 2, 3, 4.5, 'Hello', '50', 100]\n",
            "[1, 3, 4.5, 'Hello', '50', 100]\n",
            "[1, 3, 4.5, 'Hello', '50', 100, 'append value']\n",
            "[1, 3, 4.5, 'insert value', 'Hello', '50', 100, 'append value']\n"
          ]
        }
      ]
    },
    {
      "cell_type": "code",
      "source": [
        "nums = [0, 1, 2, 3, 4]\n",
        "even_squares=[]\n",
        "for x in nums:\n",
        " if x%2==0:\n",
        "  even_squares.append(x**2)\n",
        "print( even_squares)"
      ],
      "metadata": {
        "colab": {
          "base_uri": "https://localhost:8080/"
        },
        "id": "-1XVkSTSqmD6",
        "outputId": "5e057dcc-55fe-465c-ab13-e56ff54bc1aa"
      },
      "execution_count": null,
      "outputs": [
        {
          "output_type": "stream",
          "name": "stdout",
          "text": [
            "[0, 4, 16]\n"
          ]
        }
      ]
    },
    {
      "cell_type": "code",
      "source": [
        "even_squares = [x ** 2 for x in nums if x % 2 == 0]\n",
        "print (even_squares)"
      ],
      "metadata": {
        "colab": {
          "base_uri": "https://localhost:8080/"
        },
        "id": "XhMHz0wnPTBd",
        "outputId": "21dabd43-4854-462c-d45c-407bba3deb97"
      },
      "execution_count": null,
      "outputs": [
        {
          "output_type": "stream",
          "name": "stdout",
          "text": [
            "[0, 4, 16]\n"
          ]
        }
      ]
    },
    {
      "cell_type": "code",
      "source": [
        "a=range(1,25)\n",
        "a[2:5]\n",
        "a[-1]\n",
        "a[1:5:2]\n",
        "a[-3:-1]\n",
        "a[:]\n",
        "a[::]\n",
        "a[::2]\n",
        "a[::-1]"
      ],
      "metadata": {
        "colab": {
          "base_uri": "https://localhost:8080/"
        },
        "id": "gn9AMkgtPhPK",
        "outputId": "7c7be0d4-8ebc-424a-c01d-ab0fa86d53a5"
      },
      "execution_count": null,
      "outputs": [
        {
          "output_type": "execute_result",
          "data": {
            "text/plain": [
              "range(24, 0, -1)"
            ]
          },
          "metadata": {},
          "execution_count": 3
        }
      ]
    },
    {
      "cell_type": "code",
      "source": [
        "a=range(1,25)\n",
        "a[::-1]"
      ],
      "metadata": {
        "colab": {
          "base_uri": "https://localhost:8080/"
        },
        "id": "RK8i-2PkQR6p",
        "outputId": "ba4a4591-fac9-4c09-aa96-ed4f66274e19"
      },
      "execution_count": null,
      "outputs": [
        {
          "output_type": "execute_result",
          "data": {
            "text/plain": [
              "range(24, 0, -1)"
            ]
          },
          "metadata": {},
          "execution_count": 13
        }
      ]
    },
    {
      "cell_type": "code",
      "source": [
        "animals = {'cat', 'dog'}\n",
        "print ('cat' in animals) # Check if an element is in a set; prints \"True\"\n",
        "print ('fish' in animals ) # prints \"False\"\n",
        "animals.add('fish') # Add an element to a set\n",
        "print ('fish' in animals) # Prints \"True\"\n",
        "print (len(animals)) # Number of elements in a set; prints \"3\"\n",
        "animals.add('cat') # Adding an element that is already in the set does nothing\n",
        "print (len(animals) ) # Prints \"3\"\n",
        "animals.remove('cat') # Remove an element from a set\n",
        "print (len(animals) )"
      ],
      "metadata": {
        "colab": {
          "base_uri": "https://localhost:8080/"
        },
        "id": "s3UTvjwpQbJl",
        "outputId": "6ed0a0e7-0275-471a-cffc-731de5c94f67"
      },
      "execution_count": null,
      "outputs": [
        {
          "output_type": "stream",
          "name": "stdout",
          "text": [
            "True\n",
            "False\n",
            "True\n",
            "3\n",
            "3\n",
            "2\n"
          ]
        }
      ]
    },
    {
      "cell_type": "code",
      "source": [
        "pos={}#empty dictionary\n",
        "print (type(dict))\n",
        "pos[\"Man\"]=\"Noun\"\n",
        "pos[\"Play\"]=\"Verb\"\n",
        "pos[\"Good\"]=\"Adjective\"\n",
        "pos[\"Apple\"]=\"Noun\"\n",
        "pos[\"Cricket\"]=\"Noun\"\n",
        "pos[\"Cry\"]=\"Verb\"\n",
        "print (pos)\n",
        "#Print all the nouns in the dictionary\n",
        "for w in pos:\n",
        " if pos[w]==\"Noun\":\n",
        "  print (w)\n",
        " "
      ],
      "metadata": {
        "colab": {
          "base_uri": "https://localhost:8080/"
        },
        "id": "oaDLvKgJRuGW",
        "outputId": "16f39fb8-01f7-40e2-f5e5-7be8904cf559"
      },
      "execution_count": null,
      "outputs": [
        {
          "output_type": "stream",
          "name": "stdout",
          "text": [
            "<class 'type'>\n",
            "{'Man': 'Noun', 'Play': 'Verb', 'Good': 'Adjective', 'Apple': 'Noun', 'Cricket': 'Noun', 'Cry': 'Verb'}\n",
            "Man\n",
            "Apple\n",
            "Cricket\n"
          ]
        }
      ]
    },
    {
      "cell_type": "code",
      "source": [
        "d= {(x, x + 1): x for x in range(10)} # Create a dictionary with tuple keys\n",
        "t = (5, 6) # Create a tuple\n",
        "print (type(t)) # Prints \"<type 'tuple'>\"\n",
        "print (d[t] ) # Prints \"5\"\n",
        "print (d[(1, 2)]) # Prints \"1\"\n",
        "7"
      ],
      "metadata": {
        "colab": {
          "base_uri": "https://localhost:8080/"
        },
        "id": "hLK6E6yNR5p1",
        "outputId": "cde7f233-55ef-4d06-bdbf-25eb66c5a8a1"
      },
      "execution_count": null,
      "outputs": [
        {
          "output_type": "stream",
          "name": "stdout",
          "text": [
            "<class 'tuple'>\n",
            "5\n",
            "1\n"
          ]
        },
        {
          "output_type": "execute_result",
          "data": {
            "text/plain": [
              "7"
            ]
          },
          "metadata": {},
          "execution_count": 18
        }
      ]
    },
    {
      "cell_type": "code",
      "source": [
        "file=open(\"newfile.txt\",\"w\")\n",
        "print (type(file))\n",
        "a=\"This will be written to the file.\"\n",
        "file.write(a)\n",
        "file.close()"
      ],
      "metadata": {
        "colab": {
          "base_uri": "https://localhost:8080/"
        },
        "id": "HddTGswcSyze",
        "outputId": "3561a43a-feda-4766-d2d6-795bb9f74a5d"
      },
      "execution_count": null,
      "outputs": [
        {
          "output_type": "stream",
          "name": "stdout",
          "text": [
            "<class '_io.TextIOWrapper'>\n"
          ]
        }
      ]
    },
    {
      "cell_type": "code",
      "source": [
        "import numpy as np\n",
        "a = np.array([1, 2, 3]) \n",
        "print (type(a)) \n",
        "print (a.shape) \n",
        "print (a[0], a[1], a[2]) \n",
        "a[0] = 5 \n",
        "print (a) \n",
        "b = np.array([[1,2,3],[4,5,6]]) \n",
        "print( b.shape ) \n",
        "print( b[0, 0], b[0, 1], b[1, 0]) "
      ],
      "metadata": {
        "id": "n-Vkwb-yTGID",
        "colab": {
          "base_uri": "https://localhost:8080/"
        },
        "outputId": "905c58cc-a04e-4bf3-c70a-907f48e48f69"
      },
      "execution_count": null,
      "outputs": [
        {
          "output_type": "stream",
          "name": "stdout",
          "text": [
            "<class 'numpy.ndarray'>\n",
            "(3,)\n",
            "1 2 3\n",
            "[5 2 3]\n",
            "(2, 3)\n",
            "1 2 4\n"
          ]
        }
      ]
    },
    {
      "cell_type": "code",
      "source": [
        "import numpy as np\n",
        "a = np.zeros((2,2)) # Create an array of all zeros\n",
        "print (a) # Prints \"[[ 0. 0.]\n",
        "# [ 0. 0.]]\"\n",
        "b = np.ones((1,2)) # Create an array of all ones\n",
        "print( b) # Prints \"[[ 1. 1.]]\"\n",
        "c = np.full((2,2), 7) # Create a constant array\n",
        "print (c) # Prints \"[[ 7. 7.]\n",
        "# [ 7. 7.]]\"\n",
        "d = np.eye(2) # Create a 2x2 identity matrix\n",
        "print (d) # Prints \"[[ 1. 0.]\n",
        "# [ 0. 1.]]\"\n",
        "e = np.random.random((2,2)) # Create an array filled with random values\n",
        "print (e)\n"
      ],
      "metadata": {
        "colab": {
          "base_uri": "https://localhost:8080/"
        },
        "id": "fkskblstXjpU",
        "outputId": "25edff2f-0ab0-4ab6-c476-f5afc48469a3"
      },
      "execution_count": null,
      "outputs": [
        {
          "output_type": "stream",
          "name": "stdout",
          "text": [
            "[[0. 0.]\n",
            " [0. 0.]]\n",
            "[[1. 1.]]\n",
            "[[7 7]\n",
            " [7 7]]\n",
            "[[1. 0.]\n",
            " [0. 1.]]\n",
            "[[0.94998909 0.90313055]\n",
            " [0.03531457 0.81544497]]\n"
          ]
        }
      ]
    },
    {
      "cell_type": "code",
      "source": [
        "import numpy as np\n",
        "# Create the following rank 2 array with shape (3, 4)\n",
        "# [[ 1 2 3 4]\n",
        "# [ 5 6 7 8]\n",
        "# [ 9 10 11 12]]\n",
        "a = np.array([[1,2,3,4], [5,6,7,8], [9,10,11,12]])\n",
        "# Use slicing to pull out the subarray consisting of the first 2 rows\n",
        "# and columns 1 and 2; b is the following array of shape (2, 2):\n",
        "# [[2 3]\n",
        "# [6 7]]\n",
        "b = a[:2, 1:3]\n",
        "print(b)\n",
        "# A slice of an array is a view into the same data, so modifying it\n",
        "# will modify the original array.\n",
        "print( a[0, 1] ) # Prints \"2\"\n",
        "b[0, 0] = 77 # b[0, 0] is the same piece of data as a[0, 1]\n",
        "print (a[0, 1] ) # Prints \"77\""
      ],
      "metadata": {
        "id": "HjRKg3AWQuDk",
        "colab": {
          "base_uri": "https://localhost:8080/"
        },
        "outputId": "d5ac225d-8c3d-401d-8a23-895ea7ce8301"
      },
      "execution_count": null,
      "outputs": [
        {
          "output_type": "stream",
          "name": "stdout",
          "text": [
            "[[2 3]\n",
            " [6 7]]\n",
            "2\n",
            "77\n"
          ]
        }
      ]
    },
    {
      "cell_type": "code",
      "source": [
        "import numpy as np\n",
        "x = np.array([[1,2],[3,4]], dtype=np.float64)\n",
        "y = np.array([[5,6],[7,8]], dtype=np.float64)\n",
        "# Elementwise sum; both produce the array\n",
        "# [[ 6.0 8.0]\n",
        "# [10.0 12.0]]\n",
        "print (x + y)\n",
        "print (np.add(x, y))\n",
        "# Elementwise difference; both produce the array\n",
        "# [[-4.0 -4.0]\n",
        "# [-4.0 -4.0]]\n",
        "print (x - y)\n",
        "print (np.subtract(x, y))\n",
        "# Elementwise product; both produce the array\n",
        "# [[ 5.0 12.0]\n",
        "# [21.0 32.0]]\n",
        "print( x * y)\n",
        "print (np.multiply(x, y))\n",
        "# Elementwise division; both produce the array\n",
        "# [[ 0.2 0.33333333]\n",
        "# [ 0.42857143 0.5 ]]\n",
        "print (x / y)\n",
        "print (np.divide(x, y))\n",
        "# Elementwise square root; produces the array\n",
        "# [[ 1. 1.41421356]\n",
        "# [ 1.73205081 2. ]]\n",
        "print (np.sqrt(x))"
      ],
      "metadata": {
        "colab": {
          "base_uri": "https://localhost:8080/"
        },
        "id": "WEsK3hoikVG8",
        "outputId": "9f08cc6c-9d73-4bdd-98b8-44536f6d0923"
      },
      "execution_count": null,
      "outputs": [
        {
          "output_type": "stream",
          "name": "stdout",
          "text": [
            "[[ 6.  8.]\n",
            " [10. 12.]]\n",
            "[[ 6.  8.]\n",
            " [10. 12.]]\n",
            "[[-4. -4.]\n",
            " [-4. -4.]]\n",
            "[[-4. -4.]\n",
            " [-4. -4.]]\n",
            "[[ 5. 12.]\n",
            " [21. 32.]]\n",
            "[[ 5. 12.]\n",
            " [21. 32.]]\n",
            "[[0.2        0.33333333]\n",
            " [0.42857143 0.5       ]]\n",
            "[[0.2        0.33333333]\n",
            " [0.42857143 0.5       ]]\n",
            "[[1.         1.41421356]\n",
            " [1.73205081 2.        ]]\n"
          ]
        }
      ]
    },
    {
      "cell_type": "code",
      "source": [
        "import pandas as pd\n",
        "import numpy as np\n",
        "df1 = pd.DataFrame({ 'A' : range(1,5),\n",
        "'B' : pd.Timestamp('20130102'),\n",
        "'C' : pd.Series(1,index=list(range(4)),dtype='float32'),\n",
        "'D' : np.array([3] * 4,dtype='int32'),\n",
        "'E' : pd.Categorical([\"test\",\"train\",\"test\",\"train\"]),\n",
        "'F' : 'foo' })\n",
        "df1"
      ],
      "metadata": {
        "id": "8jfLeEVqlqe0",
        "colab": {
          "base_uri": "https://localhost:8080/",
          "height": 193
        },
        "outputId": "e34a39db-6a51-40d7-fd6f-3119e8ec0e04"
      },
      "execution_count": 1,
      "outputs": [
        {
          "output_type": "execute_result",
          "data": {
            "text/plain": [
              "   A          B    C  D      E    F\n",
              "0  1 2013-01-02  1.0  3   test  foo\n",
              "1  2 2013-01-02  1.0  3  train  foo\n",
              "2  3 2013-01-02  1.0  3   test  foo\n",
              "3  4 2013-01-02  1.0  3  train  foo"
            ],
            "text/html": [
              "\n",
              "  <div id=\"df-5a9c1609-7f2a-47f4-a76a-8ddf8a6ac9c3\">\n",
              "    <div class=\"colab-df-container\">\n",
              "      <div>\n",
              "<style scoped>\n",
              "    .dataframe tbody tr th:only-of-type {\n",
              "        vertical-align: middle;\n",
              "    }\n",
              "\n",
              "    .dataframe tbody tr th {\n",
              "        vertical-align: top;\n",
              "    }\n",
              "\n",
              "    .dataframe thead th {\n",
              "        text-align: right;\n",
              "    }\n",
              "</style>\n",
              "<table border=\"1\" class=\"dataframe\">\n",
              "  <thead>\n",
              "    <tr style=\"text-align: right;\">\n",
              "      <th></th>\n",
              "      <th>A</th>\n",
              "      <th>B</th>\n",
              "      <th>C</th>\n",
              "      <th>D</th>\n",
              "      <th>E</th>\n",
              "      <th>F</th>\n",
              "    </tr>\n",
              "  </thead>\n",
              "  <tbody>\n",
              "    <tr>\n",
              "      <th>0</th>\n",
              "      <td>1</td>\n",
              "      <td>2013-01-02</td>\n",
              "      <td>1.0</td>\n",
              "      <td>3</td>\n",
              "      <td>test</td>\n",
              "      <td>foo</td>\n",
              "    </tr>\n",
              "    <tr>\n",
              "      <th>1</th>\n",
              "      <td>2</td>\n",
              "      <td>2013-01-02</td>\n",
              "      <td>1.0</td>\n",
              "      <td>3</td>\n",
              "      <td>train</td>\n",
              "      <td>foo</td>\n",
              "    </tr>\n",
              "    <tr>\n",
              "      <th>2</th>\n",
              "      <td>3</td>\n",
              "      <td>2013-01-02</td>\n",
              "      <td>1.0</td>\n",
              "      <td>3</td>\n",
              "      <td>test</td>\n",
              "      <td>foo</td>\n",
              "    </tr>\n",
              "    <tr>\n",
              "      <th>3</th>\n",
              "      <td>4</td>\n",
              "      <td>2013-01-02</td>\n",
              "      <td>1.0</td>\n",
              "      <td>3</td>\n",
              "      <td>train</td>\n",
              "      <td>foo</td>\n",
              "    </tr>\n",
              "  </tbody>\n",
              "</table>\n",
              "</div>\n",
              "      <button class=\"colab-df-convert\" onclick=\"convertToInteractive('df-5a9c1609-7f2a-47f4-a76a-8ddf8a6ac9c3')\"\n",
              "              title=\"Convert this dataframe to an interactive table.\"\n",
              "              style=\"display:none;\">\n",
              "        \n",
              "  <svg xmlns=\"http://www.w3.org/2000/svg\" height=\"24px\"viewBox=\"0 0 24 24\"\n",
              "       width=\"24px\">\n",
              "    <path d=\"M0 0h24v24H0V0z\" fill=\"none\"/>\n",
              "    <path d=\"M18.56 5.44l.94 2.06.94-2.06 2.06-.94-2.06-.94-.94-2.06-.94 2.06-2.06.94zm-11 1L8.5 8.5l.94-2.06 2.06-.94-2.06-.94L8.5 2.5l-.94 2.06-2.06.94zm10 10l.94 2.06.94-2.06 2.06-.94-2.06-.94-.94-2.06-.94 2.06-2.06.94z\"/><path d=\"M17.41 7.96l-1.37-1.37c-.4-.4-.92-.59-1.43-.59-.52 0-1.04.2-1.43.59L10.3 9.45l-7.72 7.72c-.78.78-.78 2.05 0 2.83L4 21.41c.39.39.9.59 1.41.59.51 0 1.02-.2 1.41-.59l7.78-7.78 2.81-2.81c.8-.78.8-2.07 0-2.86zM5.41 20L4 18.59l7.72-7.72 1.47 1.35L5.41 20z\"/>\n",
              "  </svg>\n",
              "      </button>\n",
              "      \n",
              "  <style>\n",
              "    .colab-df-container {\n",
              "      display:flex;\n",
              "      flex-wrap:wrap;\n",
              "      gap: 12px;\n",
              "    }\n",
              "\n",
              "    .colab-df-convert {\n",
              "      background-color: #E8F0FE;\n",
              "      border: none;\n",
              "      border-radius: 50%;\n",
              "      cursor: pointer;\n",
              "      display: none;\n",
              "      fill: #1967D2;\n",
              "      height: 32px;\n",
              "      padding: 0 0 0 0;\n",
              "      width: 32px;\n",
              "    }\n",
              "\n",
              "    .colab-df-convert:hover {\n",
              "      background-color: #E2EBFA;\n",
              "      box-shadow: 0px 1px 2px rgba(60, 64, 67, 0.3), 0px 1px 3px 1px rgba(60, 64, 67, 0.15);\n",
              "      fill: #174EA6;\n",
              "    }\n",
              "\n",
              "    [theme=dark] .colab-df-convert {\n",
              "      background-color: #3B4455;\n",
              "      fill: #D2E3FC;\n",
              "    }\n",
              "\n",
              "    [theme=dark] .colab-df-convert:hover {\n",
              "      background-color: #434B5C;\n",
              "      box-shadow: 0px 1px 3px 1px rgba(0, 0, 0, 0.15);\n",
              "      filter: drop-shadow(0px 1px 2px rgba(0, 0, 0, 0.3));\n",
              "      fill: #FFFFFF;\n",
              "    }\n",
              "  </style>\n",
              "\n",
              "      <script>\n",
              "        const buttonEl =\n",
              "          document.querySelector('#df-5a9c1609-7f2a-47f4-a76a-8ddf8a6ac9c3 button.colab-df-convert');\n",
              "        buttonEl.style.display =\n",
              "          google.colab.kernel.accessAllowed ? 'block' : 'none';\n",
              "\n",
              "        async function convertToInteractive(key) {\n",
              "          const element = document.querySelector('#df-5a9c1609-7f2a-47f4-a76a-8ddf8a6ac9c3');\n",
              "          const dataTable =\n",
              "            await google.colab.kernel.invokeFunction('convertToInteractive',\n",
              "                                                     [key], {});\n",
              "          if (!dataTable) return;\n",
              "\n",
              "          const docLinkHtml = 'Like what you see? Visit the ' +\n",
              "            '<a target=\"_blank\" href=https://colab.research.google.com/notebooks/data_table.ipynb>data table notebook</a>'\n",
              "            + ' to learn more about interactive tables.';\n",
              "          element.innerHTML = '';\n",
              "          dataTable['output_type'] = 'display_data';\n",
              "          await google.colab.output.renderOutput(dataTable, element);\n",
              "          const docLink = document.createElement('div');\n",
              "          docLink.innerHTML = docLinkHtml;\n",
              "          element.appendChild(docLink);\n",
              "        }\n",
              "      </script>\n",
              "    </div>\n",
              "  </div>\n",
              "  "
            ]
          },
          "metadata": {},
          "execution_count": 1
        }
      ]
    }
  ]
}