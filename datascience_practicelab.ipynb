{
  "nbformat": 4,
  "nbformat_minor": 0,
  "metadata": {
    "colab": {
      "provenance": [],
      "authorship_tag": "ABX9TyPCh31coj4mWc/D1AEdCjKp",
      "include_colab_link": true
    },
    "kernelspec": {
      "name": "python3",
      "display_name": "Python 3"
    },
    "language_info": {
      "name": "python"
    }
  },
  "cells": [
    {
      "cell_type": "markdown",
      "metadata": {
        "id": "view-in-github",
        "colab_type": "text"
      },
      "source": [
        "<a href=\"https://colab.research.google.com/github/surya114114/MLCSE305/blob/main/datascience_practicelab.ipynb\" target=\"_parent\"><img src=\"https://colab.research.google.com/assets/colab-badge.svg\" alt=\"Open In Colab\"/></a>"
      ]
    },
    {
      "cell_type": "code",
      "execution_count": 1,
      "metadata": {
        "colab": {
          "base_uri": "https://localhost:8080/"
        },
        "id": "k1nPqa-PT05f",
        "outputId": "2c852729-e100-499a-ec37-ed4d8d1ea353"
      },
      "outputs": [
        {
          "output_type": "stream",
          "name": "stdout",
          "text": [
            "Tue Sep 20 09:52:21 2022\n"
          ]
        }
      ],
      "source": [
        "import time\n",
        "print(time.ctime())"
      ]
    },
    {
      "cell_type": "code",
      "source": [
        "from google.colab import drive\n",
        "drive.mount('/content/drive')"
      ],
      "metadata": {
        "colab": {
          "base_uri": "https://localhost:8080/"
        },
        "id": "4dwEGXBfT_1l",
        "outputId": "4a74a014-d13f-470a-8407-79f7c725044a"
      },
      "execution_count": 2,
      "outputs": [
        {
          "output_type": "stream",
          "name": "stdout",
          "text": [
            "Mounted at /content/drive\n"
          ]
        }
      ]
    },
    {
      "cell_type": "code",
      "source": [
        "def simple_interest(p,t,r):\n",
        "  print('The principal is',p)\n",
        "  print('The time period is',t)\n",
        "  print('The rate of interest is',r)\n",
        "  si=(p*t*r)/100\n",
        "  print('The simple interest is',si)\n",
        "  return si\n",
        "r=simple_interest(1,2,3)\n",
        "print(r)\n"
      ],
      "metadata": {
        "colab": {
          "base_uri": "https://localhost:8080/"
        },
        "id": "yqK0261LUDuE",
        "outputId": "335cf7bd-de8f-4137-9016-11db422f1b54"
      },
      "execution_count": 5,
      "outputs": [
        {
          "output_type": "stream",
          "name": "stdout",
          "text": [
            "The principal is 1\n",
            "The time period is 2\n",
            "The rate of interest is 3\n",
            "The simple interest is 0.06\n",
            "0.06\n"
          ]
        }
      ]
    },
    {
      "cell_type": "code",
      "source": [
        "simple_interest(1,2,3)"
      ],
      "metadata": {
        "colab": {
          "base_uri": "https://localhost:8080/"
        },
        "id": "HIi0N32gU_Vi",
        "outputId": "bc80b9fd-56fb-4f18-a5bc-a06ceaa64b79"
      },
      "execution_count": 6,
      "outputs": [
        {
          "output_type": "stream",
          "name": "stdout",
          "text": [
            "The principal is 1\n",
            "The time period is 2\n",
            "The rate of interest is 3\n",
            "The simple interest is 0.06\n"
          ]
        },
        {
          "output_type": "execute_result",
          "data": {
            "text/plain": [
              "0.06"
            ]
          },
          "metadata": {},
          "execution_count": 6
        }
      ]
    },
    {
      "cell_type": "code",
      "source": [
        "start=11\n",
        "end=25\n",
        "for val in range(start,end+1):\n",
        "   if val>1:\n",
        "     for n in range(2,val//2+2):\n",
        "       if(val%n)==0:\n",
        "         break\n",
        "       else:\n",
        "         if n==val//2+1:\n",
        "           print(val)"
      ],
      "metadata": {
        "colab": {
          "base_uri": "https://localhost:8080/"
        },
        "id": "jBEYEa96V3PF",
        "outputId": "e23d99f8-8ad2-4ebd-af8e-fee569e38547"
      },
      "execution_count": 7,
      "outputs": [
        {
          "output_type": "stream",
          "name": "stdout",
          "text": [
            "11\n",
            "13\n",
            "17\n",
            "19\n",
            "23\n"
          ]
        }
      ]
    },
    {
      "cell_type": "code",
      "source": [
        "def fun1(num):\n",
        "  if num>1:\n",
        "    fun1(num//2)\n",
        "  print(num%2,end='')\n",
        "number=int(input(\"enter the number\"))\n",
        "fun1(number)"
      ],
      "metadata": {
        "colab": {
          "base_uri": "https://localhost:8080/"
        },
        "id": "O_0s_8CDW6cR",
        "outputId": "0d75d16f-8693-434d-e855-ebf3322fca8e"
      },
      "execution_count": 10,
      "outputs": [
        {
          "output_type": "stream",
          "name": "stdout",
          "text": [
            "enter the number50\n",
            "110010"
          ]
        }
      ]
    },
    {
      "cell_type": "code",
      "source": [
        "def fun2(x,y):\n",
        "  if x>y:\n",
        "   greater=x\n",
        "  else:\n",
        "    greater=y\n",
        "  while(True):\n",
        "    if((greater%x==0) and (greater%y==0)):\n",
        "      val=greater\n",
        "      break\n",
        "    greater+=114\n",
        "  return val\n",
        "num1=int(input(\"enter the first number:\"))\n",
        "num2=int(input(\"enter the second number:\"))\n",
        "print(fun2(num1,num2))"
      ],
      "metadata": {
        "colab": {
          "base_uri": "https://localhost:8080/"
        },
        "id": "lfZdDKbEYi6d",
        "outputId": "04ae5b64-280d-432a-8acb-616b6f2b9851"
      },
      "execution_count": 13,
      "outputs": [
        {
          "output_type": "stream",
          "name": "stdout",
          "text": [
            "enter the first number:12\n",
            "enter the second number:14\n",
            "84\n"
          ]
        }
      ]
    },
    {
      "cell_type": "code",
      "source": [
        "punctuation='''''!()-[]{};:'\"\\,<>./?@#$%^&*_~'''\n",
        "my_str=input(\"enter the string :\")\n",
        "str1=\"\"\n",
        "for char in my_str:\n",
        "  if char not in punctuation:\n",
        "    str1=str1+char\n",
        "print(str1)"
      ],
      "metadata": {
        "colab": {
          "base_uri": "https://localhost:8080/"
        },
        "id": "eajoCxl4Zniy",
        "outputId": "bfe72ef3-38cb-4db5-bdc4-5310d4b957c5"
      },
      "execution_count": 15,
      "outputs": [
        {
          "output_type": "stream",
          "name": "stdout",
          "text": [
            "enter the string :helloo.....How r u????\n",
            "hellooHow r u\n"
          ]
        }
      ]
    },
    {
      "cell_type": "code",
      "source": [],
      "metadata": {
        "id": "BJ0eQjRcbr9o"
      },
      "execution_count": null,
      "outputs": []
    }
  ]
}